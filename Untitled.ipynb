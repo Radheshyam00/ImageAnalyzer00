{
 "cells": [
  {
   "cell_type": "code",
   "execution_count": 1,
   "id": "ec24f1e7-a2e1-48af-a181-d6709efd01b0",
   "metadata": {},
   "outputs": [],
   "source": [
    "import pandas as pd\n",
    "import numpy as np"
   ]
  },
  {
   "cell_type": "code",
   "execution_count": 5,
   "id": "e5f21824-880f-4d45-ad29-f9798843e67e",
   "metadata": {},
   "outputs": [],
   "source": [
    "df = pd.read_csv(\"ra.csv\")\n",
    "df_cleaned = df.drop(columns=['Unnamed: 0'])\n",
    "\n",
    "# Step 2: Drop rows where both 'Tag' and 'Value' are missing\n",
    "df_cleaned = df_cleaned.dropna(subset=['Tag', 'Value'], how='all')\n",
    "\n",
    "# Step 3: Strip whitespace from 'Tag' and 'Value' columns\n",
    "df_cleaned['Tag'] = df_cleaned['Tag'].astype(str).str.strip()\n",
    "df_cleaned['Value'] = df_cleaned['Value'].astype(str).str.strip()\n",
    "\n",
    "# Step 4: Drop duplicate tags (keeping the first occurrence)\n",
    "df_cleaned = df_cleaned.drop_duplicates(subset='Tag')\n",
    "\n",
    "# Step 5: Reset index\n",
    "df_cleaned.reset_index(drop=True, inplace=True)\n",
    "\n",
    "# (Optional) Save the cleaned data to a new CSV file\n",
    "df_cleaned.to_csv(\"cleaned_exif_data.csv\", index=False)"
   ]
  },
  {
   "cell_type": "code",
   "execution_count": 6,
   "id": "a8d5198c-ec83-4054-8d8c-a18adca21af1",
   "metadata": {},
   "outputs": [
    {
     "name": "stdout",
     "output_type": "stream",
     "text": [
      "✅ Cleaned data saved as 'cleaned_exif_data.csv'\n"
     ]
    }
   ],
   "source": [
    "print(\"✅ Cleaned data saved as 'cleaned_exif_data.csv'\")"
   ]
  },
  {
   "cell_type": "code",
   "execution_count": null,
   "id": "cd4b4d41-78ad-4125-81b6-75ac22ef61d1",
   "metadata": {},
   "outputs": [],
   "source": []
  }
 ],
 "metadata": {
  "kernelspec": {
   "display_name": "Python 3 (ipykernel)",
   "language": "python",
   "name": "python3"
  },
  "language_info": {
   "codemirror_mode": {
    "name": "ipython",
    "version": 3
   },
   "file_extension": ".py",
   "mimetype": "text/x-python",
   "name": "python",
   "nbconvert_exporter": "python",
   "pygments_lexer": "ipython3",
   "version": "3.11.9"
  }
 },
 "nbformat": 4,
 "nbformat_minor": 5
}
